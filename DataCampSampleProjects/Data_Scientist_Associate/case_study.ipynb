{
 "cells": [
  {
   "cell_type": "markdown",
   "id": "b61634e3-3746-4100-b183-8b754818c189",
   "metadata": {},
   "source": [
    "## Import the data and verify if the columns match the provided info"
   ]
  },
  {
   "cell_type": "code",
   "execution_count": 1,
   "id": "c7716bf4-06b8-47d8-b57f-fc840370a5f3",
   "metadata": {
    "execution": {
     "iopub.execute_input": "2023-06-01T12:53:59.591012Z",
     "iopub.status.busy": "2023-06-01T12:53:59.590148Z",
     "iopub.status.idle": "2023-06-01T12:54:01.836824Z",
     "shell.execute_reply": "2023-06-01T12:54:01.836083Z",
     "shell.execute_reply.started": "2023-06-01T12:53:59.590941Z"
    },
    "tags": []
   },
   "outputs": [],
   "source": [
    "# load modules for import data\n",
    "import pandas as pd\n",
    "import seaborn as sns\n",
    "import numpy as np\n",
    "import matplotlib.pyplot as plt\n",
    "# load dataset\n",
    "data_path = '/home/nero/Documents/Estudos/Data_Science_Projects/DataCampSampleProjects/Data_Scientist_Associate/Data/coffee.csv'\n",
    "coffe = pd.read_csv(data_path)"
   ]
  },
  {
   "cell_type": "code",
   "execution_count": 2,
   "id": "47beeb49-cce2-4ce7-a3e9-3079520cc3c0",
   "metadata": {
    "execution": {
     "iopub.execute_input": "2023-06-01T12:54:01.839761Z",
     "iopub.status.busy": "2023-06-01T12:54:01.839396Z",
     "iopub.status.idle": "2023-06-01T12:54:01.849503Z",
     "shell.execute_reply": "2023-06-01T12:54:01.847841Z",
     "shell.execute_reply.started": "2023-06-01T12:54:01.839732Z"
    },
    "tags": []
   },
   "outputs": [],
   "source": [
    "sns.set_style('darkgrid')"
   ]
  },
  {
   "cell_type": "code",
   "execution_count": 3,
   "id": "c948ddbf-9475-481a-a1b4-d7708e28cae1",
   "metadata": {
    "execution": {
     "iopub.execute_input": "2023-06-01T12:54:01.851191Z",
     "iopub.status.busy": "2023-06-01T12:54:01.850816Z",
     "iopub.status.idle": "2023-06-01T12:54:02.117509Z",
     "shell.execute_reply": "2023-06-01T12:54:02.114634Z",
     "shell.execute_reply.started": "2023-06-01T12:54:01.851155Z"
    },
    "tags": []
   },
   "outputs": [
    {
     "name": "stdout",
     "output_type": "stream",
     "text": [
      "<class 'pandas.core.frame.DataFrame'>\n",
      "RangeIndex: 200 entries, 0 to 199\n",
      "Data columns (total 9 columns):\n",
      " #   Column           Non-Null Count  Dtype  \n",
      "---  ------           --------------  -----  \n",
      " 0   Region           200 non-null    object \n",
      " 1   Place name       200 non-null    object \n",
      " 2   Place type       200 non-null    object \n",
      " 3   Rating           198 non-null    float64\n",
      " 4   Reviews          198 non-null    float64\n",
      " 5   Price            200 non-null    object \n",
      " 6   Delivery option  200 non-null    bool   \n",
      " 7   Dine in option   140 non-null    object \n",
      " 8   Takeout option   144 non-null    object \n",
      "dtypes: bool(1), float64(2), object(6)\n",
      "memory usage: 12.8+ KB\n"
     ]
    },
    {
     "data": {
      "text/plain": [
       "None"
      ]
     },
     "metadata": {},
     "output_type": "display_data"
    }
   ],
   "source": [
    "# info of the data\n",
    "display(coffe.info())"
   ]
  },
  {
   "cell_type": "markdown",
   "id": "99842164-e786-4b60-b2e7-e308ebbae435",
   "metadata": {},
   "source": [
    "## Task 1\n",
    "    - checking the data"
   ]
  },
  {
   "cell_type": "code",
   "execution_count": 4,
   "id": "1b0c1a70-4a2c-417f-9df6-b0f5de8b9178",
   "metadata": {
    "execution": {
     "iopub.execute_input": "2023-06-01T12:54:02.119438Z",
     "iopub.status.busy": "2023-06-01T12:54:02.119109Z",
     "iopub.status.idle": "2023-06-01T12:54:02.498609Z",
     "shell.execute_reply": "2023-06-01T12:54:02.495097Z",
     "shell.execute_reply.started": "2023-06-01T12:54:02.119398Z"
    },
    "tags": []
   },
   "outputs": [
    {
     "name": "stdout",
     "output_type": "stream",
     "text": [
      "# Categorical\n",
      "\n",
      "\n",
      "Region:\n",
      "size of the unique values in the coffe Region column: 10\n",
      "\n",
      "unique values in the Region column\n"
     ]
    },
    {
     "data": {
      "text/plain": [
       "array(['A', 'B', 'C', 'D', 'E', 'F', 'G', 'H', 'I', 'J'], dtype=object)"
      ]
     },
     "metadata": {},
     "output_type": "display_data"
    },
    {
     "name": "stdout",
     "output_type": "stream",
     "text": [
      "\n",
      "\n",
      "Place type:\n",
      "\n",
      "unique values in the Place type column\n"
     ]
    },
    {
     "data": {
      "text/plain": [
       "array(['Cafe', 'Coffee shop', 'Espresso bar', 'Others'], dtype=object)"
      ]
     },
     "metadata": {},
     "output_type": "display_data"
    },
    {
     "name": "stdout",
     "output_type": "stream",
     "text": [
      "\n",
      "\n",
      "Price:\n",
      "\n",
      "unique values in the Price column\n"
     ]
    },
    {
     "data": {
      "text/plain": [
       "array(['$', '$$', '$$$'], dtype=object)"
      ]
     },
     "metadata": {},
     "output_type": "display_data"
    },
    {
     "name": "stdout",
     "output_type": "stream",
     "text": [
      "\n",
      "# Boolean\n",
      "\n",
      "\n",
      "Delivery option:\n",
      "size of the unique values in the coffe Delivery option column: 2\n",
      "\n",
      "unique values in the Delivery option column\n"
     ]
    },
    {
     "data": {
      "text/plain": [
       "array([False,  True])"
      ]
     },
     "metadata": {},
     "output_type": "display_data"
    },
    {
     "name": "stdout",
     "output_type": "stream",
     "text": [
      "\n",
      "\n",
      "Dine in option:\n",
      "size of the unique values in the coffe Dine in option column: 2\n",
      "\n",
      "unique values in the Dine in option column\n"
     ]
    },
    {
     "data": {
      "text/plain": [
       "array([True, nan], dtype=object)"
      ]
     },
     "metadata": {},
     "output_type": "display_data"
    },
    {
     "name": "stdout",
     "output_type": "stream",
     "text": [
      "\n",
      "\n",
      "Takeout option:\n",
      "size of the unique values in the coffe Takeout option column: 2\n",
      "\n",
      "unique values in the Takeout option column\n"
     ]
    },
    {
     "data": {
      "text/plain": [
       "array([True, nan], dtype=object)"
      ]
     },
     "metadata": {},
     "output_type": "display_data"
    },
    {
     "name": "stdout",
     "output_type": "stream",
     "text": [
      "\n",
      "# Other\n",
      "number of missing values in the ['Place name', 'Rating', 'Reviews'] columns\n"
     ]
    },
    {
     "data": {
      "text/plain": [
       "Dine in option     60\n",
       "Takeout option     56\n",
       "Rating              2\n",
       "Reviews             2\n",
       "Region              0\n",
       "Place name          0\n",
       "Place type          0\n",
       "Price               0\n",
       "Delivery option     0\n",
       "dtype: int64"
      ]
     },
     "metadata": {},
     "output_type": "display_data"
    }
   ],
   "source": [
    "# checking the columns of the coffe DataFrame\n",
    "\n",
    "# categoricals\n",
    "print(\"# Categorical\")\n",
    "# Region\n",
    "print('\\n\\nRegion:')\n",
    "print(f\"size of the unique values in the coffe Region column: {(coffe['Region'].unique().size)}\")\n",
    "print('\\nunique values in the Region column')\n",
    "display(coffe['Region'].sort_values().unique())\n",
    "\n",
    "\n",
    "# Place type\n",
    "print('\\n\\nPlace type:')\n",
    "print(f\"\\nunique values in the Place type column\")\n",
    "display(coffe['Place type'].sort_values().unique())\n",
    "\n",
    "\n",
    "# Price\n",
    "print('\\n\\nPrice:')\n",
    "print(f\"\\nunique values in the Price column\")\n",
    "display(coffe['Price'].sort_values().unique())\n",
    "\n",
    "# boolean values\n",
    "print(\"\\n# Boolean\")\n",
    "# Delivery options\n",
    "print('\\n\\nDelivery option:')\n",
    "print(f\"size of the unique values in the coffe Delivery option column: {coffe['Delivery option'].unique().size}\")\n",
    "print(f\"\\nunique values in the Delivery option column\")\n",
    "display(coffe['Delivery option'].sort_values().unique())\n",
    "\n",
    "# Dine in option\n",
    "print('\\n\\nDine in option:')\n",
    "print(f\"size of the unique values in the coffe Dine in option column: {coffe['Dine in option'].unique().size}\")\n",
    "print(f\"\\nunique values in the Dine in option column\")\n",
    "display(coffe['Dine in option'].sort_values().unique())\n",
    "\n",
    "# Takeout option\n",
    "print('\\n\\nTakeout option:')\n",
    "print(f\"size of the unique values in the coffe Takeout option column: {coffe['Takeout option'].unique().size}\")\n",
    "print(f\"\\nunique values in the Takeout option column\")\n",
    "display(coffe['Takeout option'].sort_values().unique())\n",
    "\n",
    "# other values\n",
    "print(\"\\n# Other\")\n",
    "cols = ['Place name', 'Rating', 'Reviews']\n",
    "print(f'number of missing values in the {cols} columns')\n",
    "coffe[cols].isna().sum()\n",
    "\n",
    "# Count all missing values\n",
    "display(coffe.isna().sum().sort_values(ascending = False))"
   ]
  },
  {
   "cell_type": "markdown",
   "id": "c933d6ee-1e95-4453-bd4c-6779a71b11f8",
   "metadata": {},
   "source": [
    "## Observations\n",
    "All the categorical recorded in these columns are in accordance to the provided info on the document\n",
    "\n",
    "Two of the boolean variables have nan values, they need to be set to False acording to the processing required\n",
    "\n",
    "The other variables have only 4 total missing values, needing to change the Rating values to zero and the Reviews to the median."
   ]
  },
  {
   "cell_type": "markdown",
   "id": "4899bca5-39db-4777-9493-3761eb947c4c",
   "metadata": {},
   "source": [
    "## Task 1\n",
    "# Treating the data\n",
    " - Changing the booleans from na to False\n",
    " - Filling missing values in the Rating column with zero\n",
    " - Filling missing values in the Reviews columns with the median"
   ]
  },
  {
   "cell_type": "code",
   "execution_count": 5,
   "id": "f19b0a65-4387-4371-9f51-6dec7870e70a",
   "metadata": {
    "execution": {
     "iopub.execute_input": "2023-06-01T12:54:02.501580Z",
     "iopub.status.busy": "2023-06-01T12:54:02.500937Z",
     "iopub.status.idle": "2023-06-01T12:54:02.754123Z",
     "shell.execute_reply": "2023-06-01T12:54:02.752545Z",
     "shell.execute_reply.started": "2023-06-01T12:54:02.501549Z"
    },
    "tags": []
   },
   "outputs": [
    {
     "data": {
      "text/plain": [
       "Region             0\n",
       "Place name         0\n",
       "Place type         0\n",
       "Rating             0\n",
       "Reviews            0\n",
       "Price              0\n",
       "Delivery option    0\n",
       "Dine in option     0\n",
       "Takeout option     0\n",
       "dtype: int64"
      ]
     },
     "execution_count": 5,
     "metadata": {},
     "output_type": "execute_result"
    }
   ],
   "source": [
    "import numpy as np\n",
    "values = {'Dine in option': False, 'Takeout option': False, 'Rating': 0, 'Reviews': np.median}\n",
    "coffe.fillna(value = values, inplace = True)\n",
    "coffe.isna().sum()"
   ]
  },
  {
   "cell_type": "markdown",
   "id": "d6e30d16-d6ee-4df4-b892-518674491feb",
   "metadata": {
    "tags": []
   },
   "source": [
    "# Converting the Reviews columns back to float"
   ]
  },
  {
   "cell_type": "code",
   "execution_count": 6,
   "id": "5a20095d-8205-42b2-a4c9-4dc833ac76a8",
   "metadata": {
    "execution": {
     "iopub.execute_input": "2023-06-01T12:54:02.759116Z",
     "iopub.status.busy": "2023-06-01T12:54:02.757306Z",
     "iopub.status.idle": "2023-06-01T12:54:03.185847Z",
     "shell.execute_reply": "2023-06-01T12:54:03.183135Z",
     "shell.execute_reply.started": "2023-06-01T12:54:02.758976Z"
    },
    "tags": []
   },
   "outputs": [
    {
     "name": "stdout",
     "output_type": "stream",
     "text": [
      "<class 'pandas.core.frame.DataFrame'>\n",
      "RangeIndex: 200 entries, 0 to 199\n",
      "Data columns (total 9 columns):\n",
      " #   Column           Non-Null Count  Dtype  \n",
      "---  ------           --------------  -----  \n",
      " 0   Region           200 non-null    object \n",
      " 1   Place name       200 non-null    object \n",
      " 2   Place type       200 non-null    object \n",
      " 3   Rating           200 non-null    float64\n",
      " 4   Reviews          200 non-null    object \n",
      " 5   Price            200 non-null    object \n",
      " 6   Delivery option  200 non-null    bool   \n",
      " 7   Dine in option   200 non-null    bool   \n",
      " 8   Takeout option   200 non-null    bool   \n",
      "dtypes: bool(3), float64(1), object(5)\n",
      "memory usage: 10.1+ KB\n"
     ]
    },
    {
     "data": {
      "text/plain": [
       "None"
      ]
     },
     "metadata": {},
     "output_type": "display_data"
    },
    {
     "name": "stdout",
     "output_type": "stream",
     "text": [
      "<class 'pandas.core.frame.DataFrame'>\n",
      "RangeIndex: 200 entries, 0 to 199\n",
      "Data columns (total 9 columns):\n",
      " #   Column           Non-Null Count  Dtype  \n",
      "---  ------           --------------  -----  \n",
      " 0   Region           200 non-null    object \n",
      " 1   Place name       200 non-null    object \n",
      " 2   Place type       200 non-null    object \n",
      " 3   Rating           200 non-null    float64\n",
      " 4   Reviews          198 non-null    float64\n",
      " 5   Price            200 non-null    object \n",
      " 6   Delivery option  200 non-null    bool   \n",
      " 7   Dine in option   200 non-null    bool   \n",
      " 8   Takeout option   200 non-null    bool   \n",
      "dtypes: bool(3), float64(2), object(4)\n",
      "memory usage: 10.1+ KB\n"
     ]
    },
    {
     "data": {
      "text/plain": [
       "None"
      ]
     },
     "metadata": {},
     "output_type": "display_data"
    }
   ],
   "source": [
    "display(coffe.info())\n",
    "coffe['Reviews'] = pd.to_numeric(coffe['Reviews'], errors='coerce')\n",
    "coffe['Reviews'] = coffe['Reviews'].astype(float)\n",
    "display(coffe.info())"
   ]
  },
  {
   "cell_type": "markdown",
   "id": "3afa5dbb-43f6-42a0-8cae-843fe55fbe3d",
   "metadata": {
    "tags": []
   },
   "source": [
    "## Task 2\n",
    "# Vizualizing the data\n",
    "    - couting the number of observations per Rating"
   ]
  },
  {
   "cell_type": "code",
   "execution_count": 7,
   "id": "8a90c8af-9ee0-47ff-9e81-791c1d653bfe",
   "metadata": {
    "execution": {
     "iopub.execute_input": "2023-06-01T12:54:03.196251Z",
     "iopub.status.busy": "2023-06-01T12:54:03.194898Z",
     "iopub.status.idle": "2023-06-01T12:54:04.130055Z",
     "shell.execute_reply": "2023-06-01T12:54:04.128495Z",
     "shell.execute_reply.started": "2023-06-01T12:54:03.196188Z"
    },
    "tags": []
   },
   "outputs": [
    {
     "data": {
      "text/plain": [
       "<Axes: xlabel='Rating', ylabel='count'>"
      ]
     },
     "execution_count": 7,
     "metadata": {},
     "output_type": "execute_result"
    },
    {
     "data": {
      "image/png": "[encoded data removed]",
      "text/plain": [
       "<Figure size 640x480 with 1 Axes>"
      ]
     },
     "metadata": {},
     "output_type": "display_data"
    }
   ],
   "source": [
    "import seaborn as sns\n",
    "\n",
    "sns.countplot(x = coffe['Rating'], color = 'gray')"
   ]
  },
  {
   "cell_type": "markdown",
   "id": "94dedfa3-071d-44e6-878f-80d1035ddfd4",
   "metadata": {},
   "source": [
    "## Observations\n",
    "    - The majority of the coffe shops has recived a rating of 4.6 followed by 4.7\n",
    "    - Few shops recived ratings lower than 4.3"
   ]
  },
  {
   "cell_type": "markdown",
   "id": "5f4cd524-5f0c-4b37-8e41-a76ed5817b29",
   "metadata": {},
   "source": [
    "## Task 3\n",
    "    - Describe the distribution of the number of reviews. Your answer must include a visualization that shows the distribution."
   ]
  },
  {
   "cell_type": "code",
   "execution_count": 8,
   "id": "99a5d343-3b18-4a46-bd5b-9c9d5cf62404",
   "metadata": {
    "execution": {
     "iopub.execute_input": "2023-06-01T12:54:04.131462Z",
     "iopub.status.busy": "2023-06-01T12:54:04.131140Z",
     "iopub.status.idle": "2023-06-01T12:54:05.364502Z",
     "shell.execute_reply": "2023-06-01T12:54:05.363870Z",
     "shell.execute_reply.started": "2023-06-01T12:54:04.131438Z"
    },
    "tags": []
   },
   "outputs": [
    {
     "data": {
      "text/plain": [
       "<seaborn.axisgrid.FacetGrid at 0x7f1b160a3990>"
      ]
     },
     "execution_count": 8,
     "metadata": {},
     "output_type": "execute_result"
    },
    {
     "data": {
      "image/png": "[encoded data removed]",
      "text/plain": [
       "<Figure size 500x500 with 1 Axes>"
      ]
     },
     "metadata": {},
     "output_type": "display_data"
    }
   ],
   "source": [
    "sns.displot(data=coffe, x = coffe['Reviews'], color = 'gray')"
   ]
  },
  {
   "cell_type": "markdown",
   "id": "03a106f7-eac6-444e-b73c-192257ec893f",
   "metadata": {},
   "source": [
    "# Treatment\n",
    "The number of Reviews is hard to visualize in this way, given the outlier with 17500 reviews it is better to transform the data with a log"
   ]
  },
  {
   "cell_type": "code",
   "execution_count": 9,
   "id": "59f7ebd1-5a6c-4c81-ab3b-0f86fff75d6b",
   "metadata": {
    "execution": {
     "iopub.execute_input": "2023-06-01T12:54:05.366403Z",
     "iopub.status.busy": "2023-06-01T12:54:05.365636Z",
     "iopub.status.idle": "2023-06-01T12:54:06.195138Z",
     "shell.execute_reply": "2023-06-01T12:54:06.193570Z",
     "shell.execute_reply.started": "2023-06-01T12:54:05.366338Z"
    },
    "tags": []
   },
   "outputs": [
    {
     "data": {
      "text/plain": [
       "<seaborn.axisgrid.FacetGrid at 0x7f1b161232d0>"
      ]
     },
     "execution_count": 9,
     "metadata": {},
     "output_type": "execute_result"
    },
    {
     "data": {
      "image/png": "[encoded data removed]",
      "text/plain": [
       "<Figure size 500x500 with 1 Axes>"
      ]
     },
     "metadata": {},
     "output_type": "display_data"
    }
   ],
   "source": [
    "coffe['Reviews_log'] = np.log(coffe['Reviews'])\n",
    "sns.displot(data=coffe, x = coffe['Reviews_log'], color = 'gray', kde = True)"
   ]
  },
  {
   "cell_type": "markdown",
   "id": "059289c0-fe46-4ea3-9521-497a94a88609",
   "metadata": {},
   "source": [
    "## Observations\n",
    "    - With the transformation we can see that the number of reviews in more in line with a normal distribution than the untransformed data, so we can expect a more normal ditrivution for our number of reviews"
   ]
  },
  {
   "cell_type": "markdown",
   "id": "9d1d89bd-25de-4e91-a1b6-9c4895d401a9",
   "metadata": {},
   "source": [
    "## Task 4\n",
    "Describe the relationship between number of reviews and rating. Your answer must\n",
    "include a visualization to demonstrate the relationship."
   ]
  },
  {
   "cell_type": "markdown",
   "id": "ef68fe2b-2d9d-4d55-bf98-8b9f97fa0da8",
   "metadata": {},
   "source": [
    "# visualizing the relationship with a scatter plot"
   ]
  },
  {
   "cell_type": "code",
   "execution_count": 10,
   "id": "d3db2444-1bc8-46f4-a345-e81d0c4346d2",
   "metadata": {
    "execution": {
     "iopub.execute_input": "2023-06-01T12:54:06.196965Z",
     "iopub.status.busy": "2023-06-01T12:54:06.196445Z",
     "iopub.status.idle": "2023-06-01T12:54:07.294216Z",
     "shell.execute_reply": "2023-06-01T12:54:07.293102Z",
     "shell.execute_reply.started": "2023-06-01T12:54:06.196918Z"
    },
    "tags": []
   },
   "outputs": [
    {
     "data": {
      "text/plain": [
       "<Axes: xlabel='Rating', ylabel='Reviews'>"
      ]
     },
     "execution_count": 10,
     "metadata": {},
     "output_type": "execute_result"
    },
    {
     "data": {
      "image/png": "[encoded data removed]",
      "text/plain": [
       "<Figure size 640x480 with 1 Axes>"
      ]
     },
     "metadata": {},
     "output_type": "display_data"
    }
   ],
   "source": [
    "sns.boxplot(data = coffe, x = 'Rating', y = 'Reviews', color = 'gray')"
   ]
  },
  {
   "cell_type": "markdown",
   "id": "7f5f87a6-b5d8-4055-86c3-ccc645c2b77e",
   "metadata": {},
   "source": [
    "# Visualizaton without outlier"
   ]
  },
  {
   "cell_type": "code",
   "execution_count": 11,
   "id": "86de5d98-c3d1-4b0b-81d7-3d7c3e90f9ae",
   "metadata": {
    "execution": {
     "iopub.execute_input": "2023-06-01T12:54:07.295959Z",
     "iopub.status.busy": "2023-06-01T12:54:07.295255Z",
     "iopub.status.idle": "2023-06-01T12:54:08.132788Z",
     "shell.execute_reply": "2023-06-01T12:54:08.131668Z",
     "shell.execute_reply.started": "2023-06-01T12:54:07.295929Z"
    },
    "tags": []
   },
   "outputs": [
    {
     "data": {
      "text/plain": [
       "[Text(0.5, 1.0, 'No outlier')]"
      ]
     },
     "execution_count": 11,
     "metadata": {},
     "output_type": "execute_result"
    },
    {
     "data": {
      "image/png": "[encoded data removed]",
      "text/plain": [
       "<Figure size 640x480 with 1 Axes>"
      ]
     },
     "metadata": {},
     "output_type": "display_data"
    }
   ],
   "source": [
    "outlier = coffe['Reviews'] == coffe['Reviews'].max()\n",
    "sns.boxplot(data = coffe[~outlier], x = 'Rating', y = 'Reviews', color = 'gray').set(title = 'No outlier')"
   ]
  },
  {
   "cell_type": "markdown",
   "id": "76190270-790c-4b6b-9fb7-7e04e48e115c",
   "metadata": {},
   "source": [
    "## Observations\n",
    "    - Removing the outlier helped interpret the visualization\n",
    "    - The most stores with most reviews tend to get a rating of 4.6 and 4.5"
   ]
  },
  {
   "cell_type": "markdown",
   "id": "9936556f-b35c-4801-9bf1-c3eace7af302",
   "metadata": {},
   "source": [
    "## Task 5\n",
    "he business wants to predict the number of reviews a store will get using the data\n",
    "provided. State the type of machine learning problem that this is\n",
    "(regression/classification/clustering)."
   ]
  },
  {
   "cell_type": "markdown",
   "id": "fac641f3-1b77-405d-a2ff-f9479e17fbd9",
   "metadata": {},
   "source": [
    "The business has the target of predicting the number of reviews a store will get, and given that we have a defined target to compare the model the most apropiate model to this task is a supervised regression model"
   ]
  },
  {
   "cell_type": "markdown",
   "id": "1161a105-c562-4a2b-af23-ed542eb97e13",
   "metadata": {},
   "source": [
    "## Task 6\n",
    "    Fit a baseline model to predict the number of reviews a store will get using the data provided. You must include your code.\n",
    " - Baseline model -> LinearRegression"
   ]
  },
  {
   "cell_type": "markdown",
   "id": "672efee8-69fe-4a9a-b3dd-91352f086a46",
   "metadata": {},
   "source": [
    "# Preparing the data\n",
    "    - creating dummies for categorical data"
   ]
  },
  {
   "cell_type": "code",
   "execution_count": 12,
   "id": "53a713e1-7414-4fb5-85ea-786161f1c445",
   "metadata": {
    "execution": {
     "iopub.execute_input": "2023-06-01T12:54:08.137503Z",
     "iopub.status.busy": "2023-06-01T12:54:08.136465Z",
     "iopub.status.idle": "2023-06-01T12:54:08.161703Z",
     "shell.execute_reply": "2023-06-01T12:54:08.160801Z",
     "shell.execute_reply.started": "2023-06-01T12:54:08.137371Z"
    },
    "tags": []
   },
   "outputs": [],
   "source": [
    "dummi_cols = ['Region', 'Place type', 'Price', 'Delivery option', 'Dine in option', 'Takeout option']\n",
    "dummies = pd.get_dummies(coffe[dummi_cols], dtype = int)\n",
    "coffe_treated = pd.concat([coffe, dummies], axis = 1)\n",
    "coffe_treated = coffe_treated.drop(dummi_cols, axis = 1)"
   ]
  },
  {
   "cell_type": "code",
   "execution_count": 17,
   "id": "5763298c-80a2-4631-a947-70101baabd67",
   "metadata": {
    "execution": {
     "iopub.execute_input": "2023-06-01T12:55:00.253918Z",
     "iopub.status.busy": "2023-06-01T12:55:00.253348Z",
     "iopub.status.idle": "2023-06-01T12:55:00.263659Z",
     "shell.execute_reply": "2023-06-01T12:55:00.262010Z",
     "shell.execute_reply.started": "2023-06-01T12:55:00.253854Z"
    },
    "tags": []
   },
   "outputs": [],
   "source": [
    "coffe_treated.dropna(inplace = True)"
   ]
  },
  {
   "cell_type": "code",
   "execution_count": 18,
   "id": "0a8096d4-ea18-4045-a662-b9733856a788",
   "metadata": {
    "execution": {
     "iopub.execute_input": "2023-06-01T12:55:03.161901Z",
     "iopub.status.busy": "2023-06-01T12:55:03.161561Z",
     "iopub.status.idle": "2023-06-01T12:55:03.176218Z",
     "shell.execute_reply": "2023-06-01T12:55:03.174541Z",
     "shell.execute_reply.started": "2023-06-01T12:55:03.161875Z"
    },
    "tags": []
   },
   "outputs": [],
   "source": [
    "# feature and target data\n",
    "X = coffe_treated.drop(['Reviews','Place name', 'Reviews_log'], axis = 1)\n",
    "y = coffe_treated['Reviews_log']\n",
    "\n",
    "# split into training and test data\n",
    "from sklearn.model_selection import train_test_split\n",
    "X_train, X_test, y_train, y_test = train_test_split(X, y, test_size=0.33, random_state=42)"
   ]
  },
  {
   "cell_type": "code",
   "execution_count": 22,
   "id": "2ccdad7c-5ab4-405d-8bb5-cf79a0da2f3f",
   "metadata": {
    "execution": {
     "iopub.execute_input": "2023-06-01T12:56:02.785120Z",
     "iopub.status.busy": "2023-06-01T12:56:02.784297Z",
     "iopub.status.idle": "2023-06-01T12:56:02.823800Z",
     "shell.execute_reply": "2023-06-01T12:56:02.819836Z",
     "shell.execute_reply.started": "2023-06-01T12:56:02.785052Z"
    },
    "tags": []
   },
   "outputs": [],
   "source": [
    "# import and instanciate model\n",
    "from sklearn.linear_model import LinearRegression\n",
    "\n",
    "linreg = LinearRegression()\n",
    "linreg.fit(X_train, y_train)\n",
    "lin_y_pred = linreg.predict(X_test)"
   ]
  },
  {
   "cell_type": "markdown",
   "id": "392fcb1a-97f5-47ef-9607-3b77a1f864b0",
   "metadata": {},
   "source": [
    "## Task 7\n",
    "Fit a comparison model to predict the number of reviews a store will get using the\n",
    "data provided. You must include your code."
   ]
  },
  {
   "cell_type": "code",
   "execution_count": 27,
   "id": "71c6f5ff-9b5e-4634-9d80-2e72f6d6448a",
   "metadata": {
    "execution": {
     "iopub.execute_input": "2023-06-01T13:05:58.597239Z",
     "iopub.status.busy": "2023-06-01T13:05:58.596427Z",
     "iopub.status.idle": "2023-06-01T13:05:58.674997Z",
     "shell.execute_reply": "2023-06-01T13:05:58.673822Z",
     "shell.execute_reply.started": "2023-06-01T13:05:58.597174Z"
    },
    "tags": []
   },
   "outputs": [],
   "source": [
    "# import and instanciate model\n",
    "from sklearn.tree import DecisionTreeRegressor\n",
    "tree = DecisionTreeRegressor(max_depth=11, min_samples_leaf=2, random_state=42)\n",
    "tree.fit(X_train, y_train)\n",
    "tree_y_pred = tree.predict(X_test)"
   ]
  },
  {
   "cell_type": "markdown",
   "id": "c7fb48ce-0fc0-4ed9-ad08-49e021d90602",
   "metadata": {},
   "source": [
    "## Task 8\n",
    "Explain why you chose the two models used in parts 6 and 7.\n",
    "\n",
    "- I am choosing the Linear Regression model as a baseline model because it is simple and efficient to train and interpret. The comparison model I am choosing is the DecisionTreeRegressor model because it can capture more complex relationship between the categorical input features and the target variables."
   ]
  },
  {
   "cell_type": "markdown",
   "id": "fe6857c5-eb07-4833-be91-60440e4d774a",
   "metadata": {},
   "source": [
    "## Task 9\n",
    "Compare the performance of the two models used in parts 6 and 7, using any method\n",
    "suitable for the type of model. You must include your code."
   ]
  },
  {
   "cell_type": "code",
   "execution_count": 37,
   "id": "f68f2224-42b9-4824-90d4-b6c97adfa854",
   "metadata": {
    "execution": {
     "iopub.execute_input": "2023-06-01T13:28:59.906403Z",
     "iopub.status.busy": "2023-06-01T13:28:59.906090Z",
     "iopub.status.idle": "2023-06-01T13:28:59.914931Z",
     "shell.execute_reply": "2023-06-01T13:28:59.914123Z",
     "shell.execute_reply.started": "2023-06-01T13:28:59.906378Z"
    },
    "tags": []
   },
   "outputs": [
    {
     "name": "stdout",
     "output_type": "stream",
     "text": [
      "########################### Values in log ###########################\n",
      "\n",
      "=========================== LinearRegression ===========================\n",
      "linreg R2 score: -0.0170 \n",
      "linreg RMSE: 1.5529\n",
      "=========================== DecisionTreeRegressor ===========================\n",
      "tree R2 score: 0.2234 \n",
      "tree RMSE: 1.3570\n"
     ]
    }
   ],
   "source": [
    "from sklearn.metrics import r2_score,mean_squared_error\n",
    "print('#'*27 + ' Values in log ' + '#'*27 + '\\n')\n",
    "print('='*27 + ' LinearRegression ' + '='*27)\n",
    "# LinearRegression\n",
    "llinreg_r2 = r2_score(y_test, lin_y_pred)\n",
    "linreg_rmse = np.sqrt(mean_squared_error(y_test, lin_y_pred))\n",
    "print(f'linreg R2 score: {llinreg_r2:.4f} \\nlinreg RMSE: {linreg_rmse:.4f}')\n",
    "print('='*27 + ' DecisionTreeRegressor ' + '='*27)\n",
    "# DecisionTreeRegressor\n",
    "tree_r2 = r2_score(y_test, tree_y_pred)\n",
    "tree_rmse = np.sqrt(mean_squared_error(y_test, tree_y_pred))\n",
    "print(f'tree R2 score: {tree_r2:.4f} \\ntree RMSE: {tree_rmse:.4f}')"
   ]
  },
  {
   "cell_type": "markdown",
   "id": "86f5c96b-396b-4f49-94a9-846c7cb789ea",
   "metadata": {},
   "source": [
    "## Task 10\n",
    "Explain which model performs better and why."
   ]
  },
  {
   "cell_type": "markdown",
   "id": "db04de31-2da4-4046-819c-0cacbaf69fb9",
   "metadata": {},
   "source": [
    "The DecisionTreeRegressor model has a better performance over the LinearRegression model, scoring better in both of the methods chosen to evaluate the performance of the models, especialy since the LinearRegression had a very poor fit to the data, scoring a negative R2 score."
   ]
  }
 ],
 "metadata": {
  "kernelspec": {
   "display_name": "Python 3 (ipykernel)",
   "language": "python",
   "name": "python3"
  },
  "language_info": {
   "codemirror_mode": {
    "name": "ipython",
    "version": 3
   },
   "file_extension": ".py",
   "mimetype": "text/x-python",
   "name": "python",
   "nbconvert_exporter": "python",
   "pygments_lexer": "ipython3",
   "version": "3.11.3"
  }
 },
 "nbformat": 4,
 "nbformat_minor": 5
}
